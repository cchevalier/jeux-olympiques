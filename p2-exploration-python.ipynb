{
 "cells": [
  {
   "cell_type": "markdown",
   "metadata": {},
   "source": [
    "# P2. Exploration Python"
   ]
  },
  {
   "cell_type": "markdown",
   "metadata": {},
   "source": [
    "Le répertoire `/data` contient les résultats brutes des épreuves des jeux d'été et d'hiver pour une période donnée.\n",
    "\n",
    "On s'intéresse dans le cadre de cette partie P2 à l'exploration des résultats des JO d'été (fichier : `summer-olympics.csv`) en s'appuyant sur le langage Python (standard library seulement).\n"
   ]
  },
  {
   "cell_type": "markdown",
   "metadata": {},
   "source": [
    "---"
   ]
  },
  {
   "cell_type": "markdown",
   "metadata": {},
   "source": [
    "## Préliminaire: Chargement des données\n",
    "Le code fourni ci-dessous permet de charger en mémoire le fichier de données `summer-olympics.csv` dans la variable `data`"
   ]
  },
  {
   "cell_type": "code",
   "execution_count": 1,
   "metadata": {},
   "outputs": [
    {
     "name": "stdout",
     "output_type": "stream",
     "text": [
      "data/summer-olympics.csv loaded into data (31165 items)\n",
      "done in 0.20 s.\n"
     ]
    }
   ],
   "source": [
    "import csv\n",
    "import time\n",
    "\n",
    "filename = 'data/summer-olympics.csv'\n",
    "\n",
    "ts = time.time()\n",
    "\n",
    "data = []\n",
    "with open(filename, newline='') as csvfile:\n",
    "    reader = csv.DictReader(csvfile, delimiter=',')\n",
    "    for row in reader:\n",
    "        data.append(row)\n",
    "n_items = len(data)\n",
    "\n",
    "te = time.time()\n",
    "        \n",
    "print(f\"{filename} loaded into data ({n_items} items)\")\n",
    "print(f\"done in {te - ts:.2f} s.\")\n"
   ]
  },
  {
   "cell_type": "markdown",
   "metadata": {},
   "source": [
    "### Question 0: Où trouver la documentation du module `csv` ? de la fonction `csv.DictReader` ? "
   ]
  },
  {
   "cell_type": "code",
   "execution_count": 2,
   "metadata": {},
   "outputs": [],
   "source": [
    "# See doc officielle https://docs.python.org/fr/3.8/library/csv.html"
   ]
  },
  {
   "cell_type": "code",
   "execution_count": 3,
   "metadata": {},
   "outputs": [],
   "source": [
    "# Mais aussi doc offline \n",
    "#help(csv)"
   ]
  },
  {
   "cell_type": "code",
   "execution_count": 4,
   "metadata": {},
   "outputs": [
    {
     "name": "stdout",
     "output_type": "stream",
     "text": [
      "Help on class DictReader in module csv:\n",
      "\n",
      "class DictReader(builtins.object)\n",
      " |  DictReader(f, fieldnames=None, restkey=None, restval=None, dialect='excel', *args, **kwds)\n",
      " |  \n",
      " |  Methods defined here:\n",
      " |  \n",
      " |  __init__(self, f, fieldnames=None, restkey=None, restval=None, dialect='excel', *args, **kwds)\n",
      " |      Initialize self.  See help(type(self)) for accurate signature.\n",
      " |  \n",
      " |  __iter__(self)\n",
      " |  \n",
      " |  __next__(self)\n",
      " |  \n",
      " |  ----------------------------------------------------------------------\n",
      " |  Data descriptors defined here:\n",
      " |  \n",
      " |  __dict__\n",
      " |      dictionary for instance variables (if defined)\n",
      " |  \n",
      " |  __weakref__\n",
      " |      list of weak references to the object (if defined)\n",
      " |  \n",
      " |  fieldnames\n",
      "\n"
     ]
    }
   ],
   "source": [
    "# Exemple pour csv.DictReader\n",
    "help(csv.DictReader)"
   ]
  },
  {
   "cell_type": "markdown",
   "metadata": {},
   "source": [
    "---\n",
    "### Question 1: Quel est le type de la variable `data`? "
   ]
  },
  {
   "cell_type": "code",
   "execution_count": 5,
   "metadata": {},
   "outputs": [
    {
     "data": {
      "text/plain": [
       "list"
      ]
     },
     "execution_count": 5,
     "metadata": {},
     "output_type": "execute_result"
    }
   ],
   "source": [
    "type(data)"
   ]
  },
  {
   "cell_type": "markdown",
   "metadata": {},
   "source": [
    "### Question 2: Combien d'éléments contient la variable `data` ? "
   ]
  },
  {
   "cell_type": "code",
   "execution_count": 6,
   "metadata": {},
   "outputs": [
    {
     "data": {
      "text/plain": [
       "31165"
      ]
     },
     "execution_count": 6,
     "metadata": {},
     "output_type": "execute_result"
    }
   ],
   "source": [
    "len(data)"
   ]
  },
  {
   "cell_type": "markdown",
   "metadata": {},
   "source": [
    "### Question 2: Quel est le premier élément de `data` ? "
   ]
  },
  {
   "cell_type": "code",
   "execution_count": 7,
   "metadata": {},
   "outputs": [
    {
     "data": {
      "text/plain": [
       "{'Year': '1896',\n",
       " 'City': 'Athens',\n",
       " 'Sport': 'Aquatics',\n",
       " 'Discipline': 'Swimming',\n",
       " 'Athlete': 'HAJOS, Alfred',\n",
       " 'Country': 'HUN',\n",
       " 'Gender': 'Men',\n",
       " 'Event': '100M Freestyle',\n",
       " 'Medal': 'Gold'}"
      ]
     },
     "execution_count": 7,
     "metadata": {},
     "output_type": "execute_result"
    }
   ],
   "source": [
    "# L'index commence à la valeur 0 en python (comme ds bcp d'autres langages)\n",
    "data[0]"
   ]
  },
  {
   "cell_type": "markdown",
   "metadata": {},
   "source": [
    "### Question 3: Quel est le dernier élément de data ? "
   ]
  },
  {
   "cell_type": "code",
   "execution_count": 8,
   "metadata": {},
   "outputs": [
    {
     "data": {
      "text/plain": [
       "{'Year': '2012',\n",
       " 'City': 'London',\n",
       " 'Sport': 'Wrestling',\n",
       " 'Discipline': 'Wrestling Freestyle',\n",
       " 'Athlete': 'LIDBERG, Jimmy',\n",
       " 'Country': 'SWE',\n",
       " 'Gender': 'Men',\n",
       " 'Event': 'Wg 96 KG',\n",
       " 'Medal': 'Bronze'}"
      ]
     },
     "execution_count": 8,
     "metadata": {},
     "output_type": "execute_result"
    }
   ],
   "source": [
    "# Du coup le dernier élément a pour indice: len(data) - 1\n",
    "data[len(data) - 1]"
   ]
  },
  {
   "cell_type": "code",
   "execution_count": 9,
   "metadata": {},
   "outputs": [
    {
     "data": {
      "text/plain": [
       "{'Year': '2012',\n",
       " 'City': 'London',\n",
       " 'Sport': 'Wrestling',\n",
       " 'Discipline': 'Wrestling Freestyle',\n",
       " 'Athlete': 'LIDBERG, Jimmy',\n",
       " 'Country': 'SWE',\n",
       " 'Gender': 'Men',\n",
       " 'Event': 'Wg 96 KG',\n",
       " 'Medal': 'Bronze'}"
      ]
     },
     "execution_count": 9,
     "metadata": {},
     "output_type": "execute_result"
    }
   ],
   "source": [
    "# Plus simplement en Python, on peut utiliser l'indexation négative / inverse où -1 représente le dernier élément et ainsi de suite.. \n",
    "data[-1]"
   ]
  },
  {
   "cell_type": "markdown",
   "metadata": {},
   "source": [
    " "
   ]
  },
  {
   "cell_type": "markdown",
   "metadata": {},
   "source": [
    "---\n",
    "#### On définit la variable sample de la façon suivante :"
   ]
  },
  {
   "cell_type": "code",
   "execution_count": 10,
   "metadata": {},
   "outputs": [],
   "source": [
    "sample = data[25215]"
   ]
  },
  {
   "cell_type": "markdown",
   "metadata": {},
   "source": [
    "### Question 4: Que représente la variable `sample` ? "
   ]
  },
  {
   "cell_type": "code",
   "execution_count": 11,
   "metadata": {},
   "outputs": [
    {
     "data": {
      "text/plain": [
       "{'Year': '2004',\n",
       " 'City': 'Athens',\n",
       " 'Sport': 'Aquatics',\n",
       " 'Discipline': 'Swimming',\n",
       " 'Athlete': 'MANAUDOU, Laure',\n",
       " 'Country': 'FRA',\n",
       " 'Gender': 'Women',\n",
       " 'Event': '100M Backstroke',\n",
       " 'Medal': 'Bronze'}"
      ]
     },
     "execution_count": 11,
     "metadata": {},
     "output_type": "execute_result"
    }
   ],
   "source": [
    "sample"
   ]
  },
  {
   "cell_type": "code",
   "execution_count": 12,
   "metadata": {},
   "outputs": [
    {
     "name": "stdout",
     "output_type": "stream",
     "text": [
      "{'Year': '2004', 'City': 'Athens', 'Sport': 'Aquatics', 'Discipline': 'Swimming', 'Athlete': 'MANAUDOU, Laure', 'Country': 'FRA', 'Gender': 'Women', 'Event': '100M Backstroke', 'Medal': 'Bronze'}\n"
     ]
    }
   ],
   "source": [
    "print(sample)"
   ]
  },
  {
   "cell_type": "markdown",
   "metadata": {},
   "source": [
    "### Question 5: Quel est le type de la variable `sample` ? "
   ]
  },
  {
   "cell_type": "code",
   "execution_count": 13,
   "metadata": {},
   "outputs": [
    {
     "data": {
      "text/plain": [
       "dict"
      ]
     },
     "execution_count": 13,
     "metadata": {},
     "output_type": "execute_result"
    }
   ],
   "source": [
    "type(sample)"
   ]
  },
  {
   "cell_type": "markdown",
   "metadata": {},
   "source": [
    "### Question 6: De quel sport / discipline / compétition (Event) est-il question  ? "
   ]
  },
  {
   "cell_type": "code",
   "execution_count": 14,
   "metadata": {},
   "outputs": [
    {
     "data": {
      "text/plain": [
       "'Aquatics'"
      ]
     },
     "execution_count": 14,
     "metadata": {},
     "output_type": "execute_result"
    }
   ],
   "source": [
    "sample[\"Sport\"]"
   ]
  },
  {
   "cell_type": "code",
   "execution_count": 15,
   "metadata": {},
   "outputs": [
    {
     "data": {
      "text/plain": [
       "'Swimming'"
      ]
     },
     "execution_count": 15,
     "metadata": {},
     "output_type": "execute_result"
    }
   ],
   "source": [
    "sample[\"Discipline\"]"
   ]
  },
  {
   "cell_type": "code",
   "execution_count": 16,
   "metadata": {},
   "outputs": [
    {
     "data": {
      "text/plain": [
       "'100M Backstroke'"
      ]
     },
     "execution_count": 16,
     "metadata": {},
     "output_type": "execute_result"
    }
   ],
   "source": [
    "sample[\"Event\"]"
   ]
  },
  {
   "cell_type": "markdown",
   "metadata": {},
   "source": [
    "**Python: Dict / Dictionnaire**: collection d'infos par 'key / value pair' (clé / valeur) - un peu similaire avec format fichier JSON (+ infos à venir)"
   ]
  },
  {
   "cell_type": "code",
   "execution_count": 17,
   "metadata": {},
   "outputs": [
    {
     "data": {
      "text/plain": [
       "str"
      ]
     },
     "execution_count": 17,
     "metadata": {},
     "output_type": "execute_result"
    }
   ],
   "source": [
    "# Attention ici l'année Year est du type chaîne de caractères (EN: String, str en python)\n",
    "type(sample[\"Year\"])"
   ]
  },
  {
   "cell_type": "code",
   "execution_count": 18,
   "metadata": {},
   "outputs": [
    {
     "data": {
      "text/plain": [
       "'2004'"
      ]
     },
     "execution_count": 18,
     "metadata": {},
     "output_type": "execute_result"
    }
   ],
   "source": [
    "sample[\"Year\"]"
   ]
  },
  {
   "cell_type": "markdown",
   "metadata": {},
   "source": [
    "---"
   ]
  },
  {
   "cell_type": "markdown",
   "metadata": {},
   "source": [
    "### Q1.Combien la France a remporté de médailles d’or aux JO de 1984 ? (Christophe)"
   ]
  },
  {
   "cell_type": "markdown",
   "metadata": {},
   "source": [
    "**Algorithme? Procédure pour répondre à la question?**\n",
    "\n",
    "Analogie avec jeux de cartes:\n",
    "```\n",
    "Pour chaque élément de data\n",
    "\tSi Année est 1984 et Equipe est “FRA” et Médaille est “Gold” \n",
    "\tAlors on met l’élément de côté\n",
    "\tSinon on passe à l’élément suivant\n",
    "\n",
    "A la fin, on compte le nb d’éléments mis de côté\n",
    "```"
   ]
  },
  {
   "cell_type": "markdown",
   "metadata": {},
   "source": [
    "**Notions python nécessaires ici**\n",
    "- boucle / itération: for\n",
    "- test: if / else et / ou (and / or), égalité (==)\n",
    "- liste !"
   ]
  },
  {
   "cell_type": "code",
   "execution_count": 19,
   "metadata": {},
   "outputs": [
    {
     "name": "stdout",
     "output_type": "stream",
     "text": [
      "21\n"
     ]
    }
   ],
   "source": [
    "# Q1. Combien la France a remporté de médailles d’or aux JO de 1984 ? (Christophe)\n",
    "selection = []\n",
    "for e in data:\n",
    "    if e['Year'] == '1984' and e['Country'] == 'FRA' and e['Medal'] == 'Gold':\n",
    "        selection.append(e)\n",
    "reponse1 = len(selection)\n",
    "print(reponse1)"
   ]
  },
  {
   "cell_type": "code",
   "execution_count": 20,
   "metadata": {},
   "outputs": [
    {
     "name": "stdout",
     "output_type": "stream",
     "text": [
      "1984 QUINON, Pierre FRA Athletics Gold\n",
      "1984 BOISSE, Philippe FRA Fencing Gold\n",
      "1984 LAMOUR, Jean-Francois FRA Fencing Gold\n",
      "1984 AYACHE, William FRA Football Gold\n",
      "1984 BENSOUSSAN, Michel FRA Football Gold\n",
      "1984 BIBARD, Michel FRA Football Gold\n",
      "1984 BIJOTAT, Dominique FRA Football Gold\n",
      "1984 BRISSON, Francois FRA Football Gold\n",
      "1984 CUBAYNES, Patrick FRA Football Gold\n",
      "1984 GARANDE, Patrice FRA Football Gold\n",
      "1984 JEANNOL, Philippe FRA Football Gold\n",
      "1984 LACOMBE, Guy FRA Football Gold\n",
      "1984 LEMOULT, Jean-Claude FRA Football Gold\n",
      "1984 ROHR, Jean Philippe FRA Football Gold\n",
      "1984 RUST, Albert FRA Football Gold\n",
      "1984 SENAC, Didier FRA Football Gold\n",
      "1984 THOUVENEL, Jean Christophe FRA Football Gold\n",
      "1984 TOURE, Jose FRA Football Gold\n",
      "1984 XUEREB, Daniel FRA Football Gold\n",
      "1984 ZANON, Jean Louis FRA Football Gold\n",
      "1984 HEBERLE, Philippe FRA Shooting Gold\n"
     ]
    }
   ],
   "source": [
    "# Vérification\n",
    "for e in selection:\n",
    "    print(e[\"Year\"], e[\"Athlete\"], e[\"Country\"], e[\"Discipline\"], e[\"Medal\"])"
   ]
  },
  {
   "cell_type": "code",
   "execution_count": 21,
   "metadata": {},
   "outputs": [
    {
     "data": {
      "text/plain": [
       "[{'Year': '1984',\n",
       "  'City': 'Los Angeles',\n",
       "  'Sport': 'Athletics',\n",
       "  'Discipline': 'Athletics',\n",
       "  'Athlete': 'QUINON, Pierre',\n",
       "  'Country': 'FRA',\n",
       "  'Gender': 'Men',\n",
       "  'Event': 'Pole Vault',\n",
       "  'Medal': 'Gold'},\n",
       " {'Year': '1984',\n",
       "  'City': 'Los Angeles',\n",
       "  'Sport': 'Fencing',\n",
       "  'Discipline': 'Fencing',\n",
       "  'Athlete': 'BOISSE, Philippe',\n",
       "  'Country': 'FRA',\n",
       "  'Gender': 'Men',\n",
       "  'Event': 'Épée Individual',\n",
       "  'Medal': 'Gold'}]"
      ]
     },
     "execution_count": 21,
     "metadata": {},
     "output_type": "execute_result"
    }
   ],
   "source": [
    "selection[0:2]"
   ]
  },
  {
   "cell_type": "code",
   "execution_count": null,
   "metadata": {},
   "outputs": [],
   "source": []
  },
  {
   "cell_type": "code",
   "execution_count": null,
   "metadata": {},
   "outputs": [],
   "source": []
  },
  {
   "cell_type": "markdown",
   "metadata": {},
   "source": [
    "### Q15: Le nombre de médailles d’or par pays en 2012 (Maëlle)"
   ]
  },
  {
   "cell_type": "markdown",
   "metadata": {},
   "source": [
    "**Pseudo-Algorithme**\n",
    "\n",
    "- Effectuer une première sélection “liste_gold_2012” pour ne retenir que les médailles d’Or 2012\n",
    "on passe de 31k items à 636 items\n",
    "\n",
    "- Ensuite, à partir de la première sélection, rechercher tous les pays présent et ajouter cela dans la liste “liste_pays” en éliminant les doublons\n",
    "\n",
    "- Pour chaque pays retenu, calculer le nb de médailles d’or obtenus en 2012 (C’est Q1 mais généralisé à un pays quelconque et une année donnée)\n"
   ]
  },
  {
   "cell_type": "markdown",
   "metadata": {},
   "source": [
    "**Important ici et nouveauté à ce stade:** notion de fonction "
   ]
  },
  {
   "cell_type": "code",
   "execution_count": 22,
   "metadata": {},
   "outputs": [
    {
     "name": "stdout",
     "output_type": "stream",
     "text": [
      "21\n"
     ]
    }
   ],
   "source": [
    "# RAPPEL Q1. Combien la France a remporté de médailles d’or aux JO de 1984 ? (Christophe)\n",
    "selection = []\n",
    "for e in data:\n",
    "    if e['Year'] == '1984' and e['Country'] == 'FRA' and e['Medal'] == 'Gold':\n",
    "        selection.append(e)\n",
    "reponse1 = len(selection)\n",
    "print(reponse1)"
   ]
  },
  {
   "cell_type": "code",
   "execution_count": 23,
   "metadata": {},
   "outputs": [],
   "source": [
    "def calcul_nb_medailles(data, country, year):\n",
    "    \"\"\"\n",
    "    Calculer le nb de médailles d'Or gagné \n",
    "    par un pays donné `country` \n",
    "    lors d'une olympiade donnée `year`\n",
    "    \"\"\"\n",
    "    selection = []\n",
    "    for e in data:\n",
    "        if e['Year'] == year and e['Country'] == country and e['Medal'] == 'Gold':\n",
    "            selection.append(e)\n",
    "    reponse = len(selection)\n",
    "    print(year, country, reponse)\n",
    "    \n",
    "    return reponse"
   ]
  },
  {
   "cell_type": "code",
   "execution_count": 24,
   "metadata": {},
   "outputs": [
    {
     "name": "stdout",
     "output_type": "stream",
     "text": [
      "1984 FRA 21\n"
     ]
    },
    {
     "data": {
      "text/plain": [
       "21"
      ]
     },
     "execution_count": 24,
     "metadata": {},
     "output_type": "execute_result"
    }
   ],
   "source": [
    "calcul_nb_medailles(data, 'FRA', '1984')"
   ]
  },
  {
   "cell_type": "code",
   "execution_count": 25,
   "metadata": {},
   "outputs": [],
   "source": [
    "liste_pays = ['FRA', 'USA', 'GER', 'DEN', 'GRE']"
   ]
  },
  {
   "cell_type": "code",
   "execution_count": 26,
   "metadata": {},
   "outputs": [
    {
     "name": "stdout",
     "output_type": "stream",
     "text": [
      "2012 FRA 30\n",
      "2012 USA 147\n",
      "2012 GER 45\n",
      "2012 DEN 3\n",
      "2012 GRE 0\n"
     ]
    }
   ],
   "source": [
    "for pays in liste_pays:\n",
    "    calcul_nb_medailles(data, pays, '2012')"
   ]
  },
  {
   "cell_type": "code",
   "execution_count": 27,
   "metadata": {},
   "outputs": [
    {
     "data": {
      "text/plain": [
       "636"
      ]
     },
     "execution_count": 27,
     "metadata": {},
     "output_type": "execute_result"
    }
   ],
   "source": [
    "# Effectuer une première sélection “liste_gold_2012” \n",
    "# pour ne retenir que les médailles d’Or 2012\n",
    "# on passe de 31k items à 636 items\n",
    "\n",
    "# Suggestion snippet Izak \n",
    "medaille_or_2012 = []\n",
    "for md in data:\n",
    "    if md[\"Year\"] == '2012' and md[\"Medal\"] == \"Gold\":\n",
    "        medaille_or_2012.append(md)\n",
    "len(medaille_or_2012)\n"
   ]
  },
  {
   "cell_type": "code",
   "execution_count": 28,
   "metadata": {},
   "outputs": [
    {
     "data": {
      "text/plain": [
       "56"
      ]
     },
     "execution_count": 28,
     "metadata": {},
     "output_type": "execute_result"
    }
   ],
   "source": [
    "# Ensuite, à partir de la première sélection, rechercher tous les pays présent et ajouter \n",
    "# cela dans la liste “liste_pays” en ne prenant pas en compte les doublons\n",
    "liste_pays = []\n",
    "for e in medaille_or_2012:\n",
    "    if e[\"Country\"] not in liste_pays:\n",
    "        liste_pays.append(e[\"Country\"])\n",
    "len(liste_pays)"
   ]
  },
  {
   "cell_type": "code",
   "execution_count": 29,
   "metadata": {},
   "outputs": [
    {
     "name": "stdout",
     "output_type": "stream",
     "text": [
      "2012 USA 147\n",
      "2012 CHN 56\n",
      "2012 RUS 47\n",
      "2012 TUN 2\n",
      "2012 HUN 12\n",
      "2012 RSA 6\n",
      "2012 LTU 2\n",
      "2012 NED 21\n",
      "2012 FRA 30\n",
      "2012 AUS 19\n",
      "2012 CRO 15\n",
      "2012 KOR 18\n",
      "2012 ITA 16\n",
      "2012 GBR 48\n",
      "2012 ETH 3\n",
      "2012 JAM 8\n",
      "2012 ALG 1\n",
      "2012  2\n",
      "2012 KEN 2\n",
      "2012 GRN 1\n",
      "2012 DOM 1\n",
      "2012 BAH 4\n",
      "2012 GER 45\n",
      "2012 POL 3\n",
      "2012 TTO 1\n",
      "2012 CZE 4\n",
      "2012 UGA 1\n",
      "2012 NZL 9\n",
      "2012 KAZ 3\n",
      "2012 CUB 5\n",
      "2012 UKR 9\n",
      "2012 IRL 1\n",
      "2012 JPN 7\n",
      "2012 NOR 15\n",
      "2012 LAT 1\n",
      "2012 COL 1\n",
      "2012 DEN 3\n",
      "2012 SUI 2\n",
      "2012 VEN 1\n",
      "2012 MEX 18\n",
      "2012 BRA 14\n",
      "2012 ROU 2\n",
      "2012 CAN 1\n",
      "2012 PRK 4\n",
      "2012 SLO 1\n",
      "2012 GEO 1\n",
      "2012 ESP 6\n",
      "2012 SWE 2\n",
      "2012 BLR 3\n",
      "2012 SRB 1\n",
      "2012 TUR 1\n",
      "2012 ARG 1\n",
      "2012 IRI 5\n",
      "2012 TPE 1\n",
      "2012 UZB 1\n",
      "2012 AZE 2\n"
     ]
    }
   ],
   "source": [
    "for p in liste_pays:\n",
    "    r = calcul_nb_medailles(medaille_or_2012, p, '2012')\n"
   ]
  },
  {
   "cell_type": "code",
   "execution_count": null,
   "metadata": {},
   "outputs": [],
   "source": []
  },
  {
   "cell_type": "code",
   "execution_count": null,
   "metadata": {},
   "outputs": [],
   "source": []
  },
  {
   "cell_type": "markdown",
   "metadata": {},
   "source": [
    "### Question i: "
   ]
  },
  {
   "cell_type": "code",
   "execution_count": null,
   "metadata": {},
   "outputs": [],
   "source": []
  },
  {
   "cell_type": "markdown",
   "metadata": {},
   "source": [
    "--- "
   ]
  },
  {
   "cell_type": "markdown",
   "metadata": {},
   "source": [
    "Fin"
   ]
  }
 ],
 "metadata": {
  "kernelspec": {
   "display_name": "Python 3",
   "language": "python",
   "name": "python3"
  },
  "language_info": {
   "codemirror_mode": {
    "name": "ipython",
    "version": 3
   },
   "file_extension": ".py",
   "mimetype": "text/x-python",
   "name": "python",
   "nbconvert_exporter": "python",
   "pygments_lexer": "ipython3",
   "version": "3.8.6"
  }
 },
 "nbformat": 4,
 "nbformat_minor": 4
}
